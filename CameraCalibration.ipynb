{
 "cells": [
  {
   "cell_type": "markdown",
   "metadata": {},
   "source": [
    "## Implementation of Camera Calibration through OpenCV"
   ]
  },
  {
   "cell_type": "code",
   "execution_count": 1,
   "metadata": {},
   "outputs": [],
   "source": [
    "# Imports\n",
    "import cv2\n",
    "import numpy as np\n",
    "import glob"
   ]
  },
  {
   "cell_type": "markdown",
   "metadata": {},
   "source": [
    "## Define dimensions of checkerboard"
   ]
  },
  {
   "cell_type": "code",
   "execution_count": 2,
   "metadata": {},
   "outputs": [],
   "source": [
    "# Defining the dimensions of checkerboard\n",
    " # 9,6 to begin with\n",
    "\n",
    "# Each tile is 7x7 mm\n",
    "chekcerboard_tile_size = 7 #mm\n",
    "\n",
    "CHECKERBOARD = (4,4) # Vertical, horizontal\n",
    "criteria = (cv2.TERM_CRITERIA_EPS + cv2.TERM_CRITERIA_MAX_ITER, 30, 0.001)\n",
    " \n",
    "# Creating vector to store vectors of 3D points for each checkerboard image\n",
    "objpoints = []\n",
    "# Creating vector to store vectors of 2D points for each checkerboard image\n",
    "imgpoints = [] "
   ]
  },
  {
   "cell_type": "markdown",
   "metadata": {},
   "source": [
    "## Define world coordinates for 3D points"
   ]
  },
  {
   "cell_type": "code",
   "execution_count": 3,
   "metadata": {},
   "outputs": [],
   "source": [
    "# Defining the world coordinates for 3D points\n",
    "objp = np.zeros((1, CHECKERBOARD[0] * CHECKERBOARD[1], 3), np.float32)\n",
    "objp[0,:,:2] = np.mgrid[0:CHECKERBOARD[0], 0:CHECKERBOARD[1]].T.reshape(-1, 2)\n",
    "prev_img_shape = None"
   ]
  },
  {
   "cell_type": "markdown",
   "metadata": {},
   "source": [
    "## Extract path of individual image stored in ChessBoards folder"
   ]
  },
  {
   "cell_type": "code",
   "execution_count": 4,
   "metadata": {},
   "outputs": [],
   "source": [
    "# Need to calibrate with more than one image ideally. \n",
    "images = glob.glob('./Images/ChessBoards/LimitedBoards4/*.bmp') \n",
    "for fname in images:\n",
    "    img = cv2.imread(fname)\n",
    "    gray = cv2.cvtColor(img,cv2.COLOR_BGR2GRAY)\n",
    "    # Find the chess board corners\n",
    "    # If desired number of corners are found in the image then ret = true\n",
    "    ret, corners = cv2.findChessboardCorners(gray, CHECKERBOARD, cv2.CALIB_CB_ADAPTIVE_THRESH + cv2.CALIB_CB_FAST_CHECK + cv2.CALIB_CB_NORMALIZE_IMAGE)\n",
    "     \n",
    "    \"\"\"\n",
    "    If desired number of corner are detected, we refine the pixel coordinates and display them on the images of checker board\n",
    "    \"\"\"\n",
    "    \n",
    "    if ret == True:\n",
    "        objpoints.append(objp)\n",
    "        # refining pixel coordinates for given 2d points.\n",
    "        corners2 = cv2.cornerSubPix(gray, corners, (11,11),(-1,-1), criteria)\n",
    "         \n",
    "        imgpoints.append(corners2)\n",
    " \n",
    "        # Draw and display the corners\n",
    "        img = cv2.drawChessboardCorners(img, CHECKERBOARD, corners2, ret)\n",
    "     \n",
    "    cv2.imshow('img',img)\n",
    "    cv2.waitKey(0)\n",
    " \n",
    "cv2.destroyAllWindows()\n",
    "\n",
    "h,w = img.shape[:2]\n",
    " "
   ]
  },
  {
   "cell_type": "markdown",
   "metadata": {},
   "source": [
    "## Camera calibration using OpenCV\n",
    "* Zhang based calibration\n"
   ]
  },
  {
   "cell_type": "code",
   "execution_count": 5,
   "metadata": {},
   "outputs": [
    {
     "name": "stdout",
     "output_type": "stream",
     "text": [
      "Camera matrix : \n",
      "\n",
      "[[4.13922090e+03 0.00000000e+00 3.22320257e+02]\n",
      " [0.00000000e+00 4.18974476e+03 2.45865771e+02]\n",
      " [0.00000000e+00 0.00000000e+00 1.00000000e+00]]\n",
      "\n",
      " dist : \n",
      "\n",
      "[[-4.79969522e+00  3.10243894e+03 -2.01999506e-02 -2.33813766e-02\n",
      "   1.27655739e+01]]\n",
      "\n",
      " rvecs : \n",
      "\n",
      "(array([[-0.15064384],\n",
      "       [ 0.01118792],\n",
      "       [-0.00286632]]), array([[-0.15712447],\n",
      "       [ 0.03586678],\n",
      "       [ 0.38804825]]), array([[ 0.13030881],\n",
      "       [ 0.01566151],\n",
      "       [-0.03903251]]), array([[ 0.14234059],\n",
      "       [ 0.03137642],\n",
      "       [-0.14062137]]), array([[ 0.12668345],\n",
      "       [-0.00510366],\n",
      "       [ 0.2021847 ]]))\n",
      "\n",
      " tvecs : \n",
      "\n",
      "(array([[-1.22658955],\n",
      "       [-0.91221106],\n",
      "       [69.49746313]]), array([[-0.5243562 ],\n",
      "       [-1.97960022],\n",
      "       [69.59578979]]), array([[-1.2827288 ],\n",
      "       [-0.80550459],\n",
      "       [70.51531702]]), array([[-1.46670374],\n",
      "       [-0.69734627],\n",
      "       [70.44735871]]), array([[-1.03732726],\n",
      "       [-1.28759936],\n",
      "       [70.47840352]]))\n",
      "tvecs[0]  [[-1.22658955]\n",
      " [-0.91221106]\n",
      " [69.49746313]]\n"
     ]
    },
    {
     "data": {
      "text/plain": [
       "\"Constrain the world to a plane, simplified to a 3x3 matrix.\\nProjection between two planes, world and sensor. So when we project, we don't lose information.\\n\\nH = lambda * [intrinsic]*[extrinsic]\\nalpha = focal length in pixels\\n\\npoint in world (P_w) = inv(Homography)* point in pixels(P_d)\\n\\nProject 3D point [0,0,0] to image, [100, 0,0 ] draw a line, which projects the X of the world image???\\n\""
      ]
     },
     "execution_count": 5,
     "metadata": {},
     "output_type": "execute_result"
    }
   ],
   "source": [
    "\"\"\"\n",
    "Performing camera calibration by passing the value of known 3D points (objpoints)\n",
    "and corresponding pixel coordinates of the detected corners (imgpoints)\n",
    "\"\"\"\n",
    "\n",
    "ret, mtx, dist, rvecs, tvecs = cv2.calibrateCamera(objpoints, imgpoints, gray.shape[::-1], None, None)\n",
    "\n",
    "print(\"Camera matrix : \\n\") # Intrinsic parameters\n",
    "print(mtx)\n",
    "print(\"\\n dist : \\n\") # [k1, k2, p1, p2, k3] k:radial distortion, p: tangential distortion\n",
    "print(dist)\n",
    "print(\"\\n rvecs : \\n\") # Extrinsic Rodriguez\n",
    "print(rvecs)\n",
    "print(\"\\n tvecs : \\n\") # Extrinsic Translation vector\n",
    "print(tvecs)\n",
    "\n",
    "print(\"tvecs[0] \", tvecs[0])\n",
    "'''Constrain the world to a plane, simplified to a 3x3 matrix.\n",
    "Projection between two planes, world and sensor. So when we project, we don't lose information.\n",
    "\n",
    "H = lambda * [intrinsic]*[extrinsic]\n",
    "alpha = focal length in pixels\n",
    "\n",
    "point in world (P_w) = inv(Homography)* point in pixels(P_d)\n",
    "\n",
    "Project 3D point [0,0,0] to image, [100, 0,0 ] draw a line, which projects the X of the world image???\n",
    "'''\n",
    "\n"
   ]
  },
  {
   "cell_type": "code",
   "execution_count": 6,
   "metadata": {},
   "outputs": [
    {
     "name": "stdout",
     "output_type": "stream",
     "text": [
      "Inverted camera matrix: \n",
      "\n",
      "[[4.13922090e+03 0.00000000e+00 3.22320257e+02]\n",
      " [0.00000000e+00 4.18974476e+03 2.45865771e+02]\n",
      " [0.00000000e+00 0.00000000e+00 1.00000000e+00]]\n"
     ]
    }
   ],
   "source": [
    "# Invert camera matrix:\n",
    "np.linalg.inv(mtx)\n",
    "print(\"Inverted camera matrix: \\n\")\n",
    "print(mtx)\n",
    "\n",
    "# "
   ]
  },
  {
   "cell_type": "markdown",
   "metadata": {},
   "source": [
    "## Converting Rodrigues to rotational matrix"
   ]
  },
  {
   "cell_type": "code",
   "execution_count": 7,
   "metadata": {},
   "outputs": [
    {
     "name": "stdout",
     "output_type": "stream",
     "text": [
      "Rotation matrix: \n",
      " [[ 0.99993343  0.00201433  0.01136089]\n",
      " [-0.00369652  0.98867068  0.15005537]\n",
      " [-0.01092992 -0.15008738  0.98861232]]\n",
      "\n",
      "Pre homography matrix: \n",
      " [[ 4.13542244e+03 -4.00384240e+01  1.73233151e+04]\n",
      " [-1.81747812e+01  4.10537647e+03  1.32651158e+04]\n",
      " [-1.09299202e-02 -1.50087376e-01  6.94974631e+01]]\n",
      "\n",
      "Post homography matrix: \n",
      " [[ 5.95046532e+01 -5.76113461e-01  2.49265431e+02]\n",
      " [-2.61517188e-01  5.90723213e+01  1.90871943e+02]\n",
      " [-1.57270779e-04 -2.15960941e-03  1.00000000e+00]]\n",
      "\n",
      " Inverse homography matrix: \n",
      " [[ 1.67943857e-02  1.06714406e-05 -4.18829665e+00]\n",
      " [ 6.53594626e-05  1.68111351e-02 -3.22506587e+00]\n",
      " [ 2.78241703e-06  3.63071639e-05  9.92376421e-01]]\n",
      "Pixels: \n",
      " [[1]\n",
      " [2]\n",
      " [1]]\n",
      "\n",
      "World Coordinates: \n",
      " [[ 1.67943857e-02  1.06714406e-05 -4.18829665e+00]\n",
      " [ 1.30718925e-04  3.36222701e-02 -6.45013174e+00]\n",
      " [ 2.78241703e-06  3.63071639e-05  9.92376421e-01]]\n"
     ]
    }
   ],
   "source": [
    "rotation_matrix = np.zeros(shape=(3,3))\n",
    "cv2.Rodrigues(rvecs[0], rotation_matrix)\n",
    "print(\"Rotation matrix: \\n\", rotation_matrix)\n",
    "\n",
    "rotation_mask = np.array([[1, 0], [0, 1], [0, 0]])\n",
    "\n",
    "chopped_rotation = np.matmul(rotation_matrix, rotation_mask)\n",
    "# print(\"\\nChopped matrix: \\n\", chopped_rotation)\n",
    "\n",
    "extrinsic_matrix = np.hstack((chopped_rotation,tvecs[0]))\n",
    "# print(\"\\nExtrinsic matrix: \\n\", extrinsic_matrix)\n",
    "\n",
    "homography_matrix = np.matmul(mtx, extrinsic_matrix)\n",
    "print(\"\\nPre homography matrix: \\n\", homography_matrix)\n",
    "\n",
    "homography_matrix = homography_matrix/homography_matrix[2][2]\n",
    "print(\"\\nPost homography matrix: \\n\", homography_matrix)\n",
    "\n",
    "inv_homography_matrix = np.linalg.inv(homography_matrix)\n",
    "print(\"\\n Inverse homography matrix: \\n\", inv_homography_matrix)\n",
    "\n",
    "pixels = np.array((1,2,1))\n",
    "pixels = pixels.reshape(1,-1).transpose()\n",
    "print(\"Pixels: \\n\", pixels)\n",
    "\n",
    "world_coordinates = inv_homography_matrix * pixels\n",
    "print(\"\\nWorld Coordinates: \\n\", world_coordinates)\n"
   ]
  },
  {
   "cell_type": "code",
   "execution_count": 14,
   "metadata": {},
   "outputs": [
    {
     "name": "stdout",
     "output_type": "stream",
     "text": [
      "Written to file:  <_io.TextIOWrapper name='Coordinates.csv' mode='w' encoding='cp1252'>\n"
     ]
    }
   ],
   "source": [
    "# Function for legible outputs:\n",
    "\n",
    "def calculateWorldCoordinates(pixels_to_calculate, intrinsicMatrix, extrinsicMatrix):\n",
    "    inverse_intrinsic = np.linalg.inv(intrinsicMatrix)\n",
    "    inverse_extrinsic = np.linalg.inv(extrinsicMatrix)\n",
    "    init_coords = np.matmul(inverse_extrinsic,inverse_intrinsic)\n",
    "    world_coordinate_vector = np.matmul(init_coords, pixels_to_calculate)\n",
    "    return world_coordinate_vector\n",
    "\n",
    "'''\n",
    "(Retrieve pixel coordinate from image.)\n",
    "Reshape pixels\n",
    "Calculate to world coordinates.\n",
    "Print world coordinates.\n",
    "Print world coordinates to csv.\n",
    "(Graphical presentation??)\n",
    "'''\n",
    "\n",
    "pix1 = np.array((1,2,1))\n",
    "pix2 = np.array((2,3,4))\n",
    "pix3 = np.array((5,5,5))\n",
    "pixels = [pix1, pix2, pix3]\n",
    "\n",
    "def coordinatesToCSV(pixels_to_calculate, intrinsicMatrix, extrinsicMatrix, outputFile):\n",
    "    # pixelCoordinates = pixelCoordinates.reshape(1,-1).transpose()\n",
    "    ok = True\n",
    "    try: \n",
    "        outputFile = open(outputFile, \"w\")\n",
    "    except:\n",
    "        ok = False\n",
    "        print(\"Unable to open output file.\")\n",
    "    if ok:\n",
    "        outputFile.write(\"World coordinates are on the form [X, Y, Z, 1], where the '1' is left out for this file.\\n\")\n",
    "        for pixelCount,pixelCoordinate in enumerate(pixels_to_calculate):\n",
    "            outputFile.write(\"\\nPixel count: \" + str(pixelCount) + \"\\nPixel coordinates: \" + str(pixelCoordinate) + \"\\n\")\n",
    "            worldCoordinates = calculateWorldCoordinates(pixelCoordinate, intrinsicMatrix, extrinsicMatrix )\n",
    "            outputFile.write(\"\\nWorld coordinates: \\n\" + str(worldCoordinates) + \"\\n\")\n",
    "    \n",
    "    print(\"Written to file: \", outputFile)\n",
    "    outputFile.close()\n",
    "\n",
    "outputFile = \"Coordinates.csv\"\n",
    "coordinatesToCSV(pixels, mtx, extrinsic_matrix, outputFile)"
   ]
  }
 ],
 "metadata": {
  "kernelspec": {
   "display_name": "Python 3",
   "language": "python",
   "name": "python3"
  },
  "language_info": {
   "codemirror_mode": {
    "name": "ipython",
    "version": 3
   },
   "file_extension": ".py",
   "mimetype": "text/x-python",
   "name": "python",
   "nbconvert_exporter": "python",
   "pygments_lexer": "ipython3",
   "version": "3.9.13"
  }
 },
 "nbformat": 4,
 "nbformat_minor": 2
}
