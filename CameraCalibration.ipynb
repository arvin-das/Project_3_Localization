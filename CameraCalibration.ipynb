{
 "cells": [
  {
   "cell_type": "markdown",
   "metadata": {},
   "source": [
    "## Implementation of Camera Calibration through OpenCV"
   ]
  },
  {
   "cell_type": "code",
   "execution_count": null,
   "metadata": {},
   "outputs": [],
   "source": [
    "# Imports\n",
    "import cv2\n",
    "import numpy as np\n",
    "import glob"
   ]
  },
  {
   "cell_type": "markdown",
   "metadata": {},
   "source": [
    "## Define dimensions of checkerboard"
   ]
  },
  {
   "cell_type": "code",
   "execution_count": null,
   "metadata": {},
   "outputs": [],
   "source": [
    "# Defining the dimensions of checkerboard\n",
    " # 9,6 to begin with\n",
    "\n",
    "# Each tile is 7x7 mm\n",
    "chekcerboard_tile_size = 7 #mm\n",
    "\n",
    "CHECKERBOARD = (4,4) # Vertical, horizontal\n",
    "criteria = (cv2.TERM_CRITERIA_EPS + cv2.TERM_CRITERIA_MAX_ITER, 30, 0.001)\n",
    " \n",
    "# Creating vector to store vectors of 3D points for each checkerboard image\n",
    "objpoints = []\n",
    "# Creating vector to store vectors of 2D points for each checkerboard image\n",
    "imgpoints = [] "
   ]
  },
  {
   "cell_type": "markdown",
   "metadata": {},
   "source": [
    "## Define world coordinates for 3D points"
   ]
  },
  {
   "cell_type": "code",
   "execution_count": null,
   "metadata": {},
   "outputs": [],
   "source": [
    "# Defining the world coordinates for 3D points\n",
    "objp = np.zeros((1, CHECKERBOARD[0] * CHECKERBOARD[1], 3), np.float32)\n",
    "objp[0,:,:2] = np.mgrid[0:CHECKERBOARD[0], 0:CHECKERBOARD[1]].T.reshape(-1, 2)\n",
    "prev_img_shape = None"
   ]
  },
  {
   "cell_type": "markdown",
   "metadata": {},
   "source": [
    "## Extract path of individual image stored in ChessBoards folder"
   ]
  },
  {
   "cell_type": "code",
   "execution_count": null,
   "metadata": {},
   "outputs": [],
   "source": [
    "# Need to calibrate with more than one image ideally. \n",
    "images = glob.glob('./Images/ChessBoards/LimitedBoards4/*.bmp') \n",
    "for fname in images:\n",
    "    img = cv2.imread(fname)\n",
    "    gray = cv2.cvtColor(img,cv2.COLOR_BGR2GRAY)\n",
    "    # Find the chess board corners\n",
    "    # If desired number of corners are found in the image then ret = true\n",
    "    ret, corners = cv2.findChessboardCorners(gray, CHECKERBOARD, cv2.CALIB_CB_ADAPTIVE_THRESH + cv2.CALIB_CB_FAST_CHECK + cv2.CALIB_CB_NORMALIZE_IMAGE)\n",
    "     \n",
    "    \"\"\"\n",
    "    If desired number of corner are detected, we refine the pixel coordinates and display them on the images of checker board\n",
    "    \"\"\"\n",
    "    \n",
    "    if ret == True:\n",
    "        objpoints.append(objp)\n",
    "        # refining pixel coordinates for given 2d points.\n",
    "        corners2 = cv2.cornerSubPix(gray, corners, (11,11),(-1,-1), criteria)\n",
    "         \n",
    "        imgpoints.append(corners2)\n",
    " \n",
    "        # Draw and display the corners\n",
    "        img = cv2.drawChessboardCorners(img, CHECKERBOARD, corners2, ret)\n",
    "     \n",
    "    cv2.imshow('img',img)\n",
    "    cv2.waitKey(0)\n",
    " \n",
    "cv2.destroyAllWindows()\n",
    "\n",
    "h,w = img.shape[:2]\n",
    " "
   ]
  },
  {
   "cell_type": "markdown",
   "metadata": {},
   "source": [
    "## Camera calibration using OpenCV\n",
    "* Zhang based calibration\n"
   ]
  },
  {
   "cell_type": "code",
   "execution_count": null,
   "metadata": {},
   "outputs": [],
   "source": [
    "\"\"\"\n",
    "Performing camera calibration by passing the value of known 3D points (objpoints)\n",
    "and corresponding pixel coordinates of the detected corners (imgpoints)\n",
    "\"\"\"\n",
    "\n",
    "ret, mtx, dist, rvecs, tvecs = cv2.calibrateCamera(objpoints, imgpoints, gray.shape[::-1], None, None)\n",
    "\n",
    "print(\"Camera matrix : \\n\") # Intrinsic parameters\n",
    "print(mtx)\n",
    "print(\"\\n dist : \\n\") # [k1, k2, p1, p2, k3] k:radial distortion, p: tangential distortion\n",
    "print(dist)\n",
    "print(\"\\n rvecs : \\n\") # Extrinsic Rodriguez\n",
    "print(rvecs)\n",
    "print(\"\\n tvecs : \\n\") # Extrinsic Translation vector\n",
    "print(tvecs)\n",
    "\n",
    "print(\"tvecs[0] \", tvecs[0])\n",
    "'''Constrain the world to a plane, simplified to a 3x3 matrix.\n",
    "Projection between two planes, world and sensor. So when we project, we don't lose information.\n",
    "\n",
    "H = lambda * [intrinsic]*[extrinsic]\n",
    "alpha = focal length in pixels\n",
    "\n",
    "point in world (P_w) = inv(Homography)* point in pixels(P_d)\n",
    "\n",
    "Project 3D point [0,0,0] to image, [100, 0,0 ] draw a line, which projects the X of the world image???\n",
    "'''\n",
    "\n"
   ]
  },
  {
   "cell_type": "code",
   "execution_count": null,
   "metadata": {},
   "outputs": [],
   "source": [
    "# Invert camera matrix:\n",
    "np.linalg.inv(mtx)\n",
    "print(\"Inverted camera matrix: \\n\")\n",
    "print(mtx)\n",
    "\n",
    "# "
   ]
  },
  {
   "cell_type": "markdown",
   "metadata": {},
   "source": [
    "## Converting Rodrigues to rotational matrix"
   ]
  },
  {
   "cell_type": "code",
   "execution_count": null,
   "metadata": {},
   "outputs": [],
   "source": [
    "rotation_matrix = np.zeros(shape=(3,3))\n",
    "cv2.Rodrigues(rvecs[0], rotation_matrix)\n",
    "print(\"Rotation matrix: \\n\", rotation_matrix)\n",
    "\n",
    "rotation_mask = np.array([[1, 0], [0, 1], [0, 0]])\n",
    "\n",
    "chopped_rotation = np.matmul(rotation_matrix, rotation_mask)\n",
    "# print(\"\\nChopped matrix: \\n\", chopped_rotation)\n",
    "\n",
    "extrinsic_matrix = np.hstack((chopped_rotation,tvecs[0]))\n",
    "# print(\"\\nExtrinsic matrix: \\n\", extrinsic_matrix)\n",
    "\n",
    "homography_matrix = np.matmul(mtx, extrinsic_matrix)\n",
    "print(\"\\nPre homography matrix: \\n\", homography_matrix)\n",
    "\n",
    "homography_matrix = homography_matrix/homography_matrix[2][2]\n",
    "print(\"\\nPost homography matrix: \\n\", homography_matrix)\n",
    "\n",
    "inv_homography_matrix = np.linalg.inv(homography_matrix)\n",
    "print(\"\\n Inverse homography matrix: \\n\", inv_homography_matrix)\n",
    "\n",
    "pixels = np.array((1,2,1))\n",
    "pixels = pixels.reshape(1,-1).transpose()\n",
    "print(\"Pixels: \\n\", pixels)\n",
    "\n",
    "world_coordinates = inv_homography_matrix * pixels\n",
    "print(\"\\nWorld Coordinates: \\n\", world_coordinates)\n"
   ]
  },
  {
   "cell_type": "code",
   "execution_count": 23,
   "metadata": {},
   "outputs": [
    {
     "name": "stdout",
     "output_type": "stream",
     "text": [
      "Written to file:  <_io.TextIOWrapper name='Coordinates.csv' mode='w' encoding='cp1252'>\n"
     ]
    }
   ],
   "source": [
    "# Function for legible outputs:\n",
    "\n",
    "'''\n",
    "(Retrieve pixel coordinate from image.)\n",
    "Reshape pixels\n",
    "Calculate to world coordinates.\n",
    "Print world coordinates.\n",
    "Print world coordinates to csv.\n",
    "(Graphical presentation??)\n",
    "'''\n",
    "\n",
    "pix1 = np.array((1,2,1))\n",
    "pix2 = np.array((2,3,4))\n",
    "pix3 = np.array((5,5,5))\n",
    "pixels = [pix1, pix2, pix3]\n",
    "\n",
    "def coordinatesToCSV(pixelCoordinates, outputFile, inverseHomographyMatrix):\n",
    "    # pixelCoordinates = pixelCoordinates.reshape(1,-1).transpose()\n",
    "    ok = True\n",
    "    try: \n",
    "        outputFile = open(outputFile, \"w\")\n",
    "    except:\n",
    "        ok = False\n",
    "        print(\"Unable to open output file.\")\n",
    "    if ok:\n",
    "        for pixelCount,coordinate in enumerate(pixelCoordinates):\n",
    "            outputFile.write(\"\\nPixel count: \" + str(pixelCount) + \"\\nPixel coordinates: \" + str(coordinate) + \"\\n\")\n",
    "            worldCoordinates = inverseHomographyMatrix * coordinate\n",
    "            outputFile.write(\"\\nWorld coordinates: \\n\" + str(worldCoordinates) + \"\\n\")\n",
    "    \n",
    "    print(\"Written to file: \", outputFile)\n",
    "    outputFile.close()\n",
    "\n",
    "outputFile = \"Coordinates.csv\"\n",
    "coordinatesToCSV(pixels, outputFile, inv_homography_matrix)"
   ]
  }
 ],
 "metadata": {
  "kernelspec": {
   "display_name": "Python 3",
   "language": "python",
   "name": "python3"
  },
  "language_info": {
   "codemirror_mode": {
    "name": "ipython",
    "version": 3
   },
   "file_extension": ".py",
   "mimetype": "text/x-python",
   "name": "python",
   "nbconvert_exporter": "python",
   "pygments_lexer": "ipython3",
   "version": "3.9.13"
  }
 },
 "nbformat": 4,
 "nbformat_minor": 2
}
