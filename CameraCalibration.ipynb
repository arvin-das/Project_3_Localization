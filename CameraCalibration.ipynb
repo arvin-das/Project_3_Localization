{
 "cells": [
  {
   "cell_type": "markdown",
   "metadata": {},
   "source": [
    "## Implementation of Camera Calibration through OpenCV"
   ]
  },
  {
   "cell_type": "code",
   "execution_count": 41,
   "metadata": {},
   "outputs": [],
   "source": [
    "# Imports\n",
    "import cv2\n",
    "import numpy as np\n",
    "# import os \n",
    "import glob"
   ]
  },
  {
   "cell_type": "markdown",
   "metadata": {},
   "source": [
    "## Define dimensions of checkerboard"
   ]
  },
  {
   "cell_type": "code",
   "execution_count": 42,
   "metadata": {},
   "outputs": [],
   "source": [
    "# Defining the dimensions of checkerboard\n",
    " # 9,6 to begin with\n",
    "\n",
    "# Each tile is 7x7 mm\n",
    "chekcerboard_tile_size = 7 #mm\n",
    "\n",
    "CHECKERBOARD = (4,4) # Vertical, horizontal\n",
    "criteria = (cv2.TERM_CRITERIA_EPS + cv2.TERM_CRITERIA_MAX_ITER, 30, 0.001)\n",
    " \n",
    "# Creating vector to store vectors of 3D points for each checkerboard image\n",
    "objpoints = []\n",
    "# Creating vector to store vectors of 2D points for each checkerboard image\n",
    "imgpoints = [] "
   ]
  },
  {
   "cell_type": "markdown",
   "metadata": {},
   "source": [
    "## Define world coordinates for 3D points"
   ]
  },
  {
   "cell_type": "code",
   "execution_count": 43,
   "metadata": {},
   "outputs": [],
   "source": [
    "# Defining the world coordinates for 3D points\n",
    "objp = np.zeros((1, CHECKERBOARD[0] * CHECKERBOARD[1], 3), np.float32)\n",
    "objp[0,:,:2] = np.mgrid[0:CHECKERBOARD[0], 0:CHECKERBOARD[1]].T.reshape(-1, 2)\n",
    "prev_img_shape = None"
   ]
  },
  {
   "cell_type": "markdown",
   "metadata": {},
   "source": [
    "## Extract path of individual image stored in ChessBoards folder"
   ]
  },
  {
   "cell_type": "code",
   "execution_count": 46,
   "metadata": {},
   "outputs": [],
   "source": [
    "# Need to calibrate with more than one image ideally. \n",
    "images = glob.glob('./Images/ChessBoards/LimitedBoards2/*.bmp') \n",
    "for fname in images:\n",
    "    img = cv2.imread(fname)\n",
    "    gray = cv2.cvtColor(img,cv2.COLOR_BGR2GRAY)\n",
    "    # Find the chess board corners\n",
    "    # If desired number of corners are found in the image then ret = true\n",
    "    ret, corners = cv2.findChessboardCorners(gray, CHECKERBOARD, cv2.CALIB_CB_ADAPTIVE_THRESH + cv2.CALIB_CB_FAST_CHECK + cv2.CALIB_CB_NORMALIZE_IMAGE)\n",
    "     \n",
    "    \"\"\"\n",
    "    If desired number of corner are detected, we refine the pixel coordinates and display them on the images of checker board\n",
    "    \"\"\"\n",
    "    \n",
    "    if ret == True:\n",
    "        objpoints.append(objp)\n",
    "        # refining pixel coordinates for given 2d points.\n",
    "        corners2 = cv2.cornerSubPix(gray, corners, (11,11),(-1,-1), criteria)\n",
    "         \n",
    "        imgpoints.append(corners2)\n",
    " \n",
    "        # Draw and display the corners\n",
    "        img = cv2.drawChessboardCorners(img, CHECKERBOARD, corners2, ret)\n",
    "     \n",
    "    cv2.imshow('img',img)\n",
    "    cv2.waitKey(0)\n",
    " \n",
    "cv2.destroyAllWindows()\n",
    "\n",
    "h,w = img.shape[:2]\n",
    " "
   ]
  },
  {
   "cell_type": "markdown",
   "metadata": {},
   "source": [
    "## Camera calibration using OpenCV\n",
    "* Zhang based calibration\n"
   ]
  },
  {
   "cell_type": "code",
   "execution_count": 45,
   "metadata": {},
   "outputs": [
    {
     "name": "stdout",
     "output_type": "stream",
     "text": [
      "Camera matrix : \n",
      "\n",
      "[[4.13922090e+03 0.00000000e+00 3.22320257e+02]\n",
      " [0.00000000e+00 4.18974476e+03 2.45865771e+02]\n",
      " [0.00000000e+00 0.00000000e+00 1.00000000e+00]]\n",
      "\n",
      " dist : \n",
      "\n",
      "[[-4.79969522e+00  3.10243894e+03 -2.01999506e-02 -2.33813766e-02\n",
      "   1.27655739e+01]]\n",
      "\n",
      " rvecs : \n",
      "\n",
      "(array([[-0.15064384],\n",
      "       [ 0.01118792],\n",
      "       [-0.00286632]]), array([[-0.15712447],\n",
      "       [ 0.03586678],\n",
      "       [ 0.38804825]]), array([[ 0.13030881],\n",
      "       [ 0.01566151],\n",
      "       [-0.03903251]]), array([[ 0.14234059],\n",
      "       [ 0.03137642],\n",
      "       [-0.14062137]]), array([[ 0.12668345],\n",
      "       [-0.00510366],\n",
      "       [ 0.2021847 ]]))\n",
      "\n",
      " tvecs : \n",
      "\n",
      "(array([[-1.22658955],\n",
      "       [-0.91221106],\n",
      "       [69.49746313]]), array([[-0.5243562 ],\n",
      "       [-1.97960022],\n",
      "       [69.59578979]]), array([[-1.2827288 ],\n",
      "       [-0.80550459],\n",
      "       [70.51531702]]), array([[-1.46670374],\n",
      "       [-0.69734627],\n",
      "       [70.44735871]]), array([[-1.03732726],\n",
      "       [-1.28759936],\n",
      "       [70.47840352]]))\n"
     ]
    }
   ],
   "source": [
    "\"\"\"\n",
    "Performing camera calibration by passing the value of known 3D points (objpoints)\n",
    "and corresponding pixel coordinates of the detected corners (imgpoints)\n",
    "\"\"\"\n",
    "\n",
    "ret, mtx, dist, rvecs, tvecs = cv2.calibrateCamera(objpoints, imgpoints, gray.shape[::-1], None, None)\n",
    "\n",
    "\n",
    "print(\"Camera matrix : \\n\")\n",
    "print(mtx)\n",
    "print(\"\\n dist : \\n\")\n",
    "print(dist)\n",
    "print(\"\\n rvecs : \\n\")\n",
    "print(rvecs)\n",
    "print(\"\\n tvecs : \\n\")\n",
    "print(tvecs)"
   ]
  }
 ],
 "metadata": {
  "kernelspec": {
   "display_name": "Python 3",
   "language": "python",
   "name": "python3"
  },
  "language_info": {
   "codemirror_mode": {
    "name": "ipython",
    "version": 3
   },
   "file_extension": ".py",
   "mimetype": "text/x-python",
   "name": "python",
   "nbconvert_exporter": "python",
   "pygments_lexer": "ipython3",
   "version": "3.9.13"
  }
 },
 "nbformat": 4,
 "nbformat_minor": 2
}
